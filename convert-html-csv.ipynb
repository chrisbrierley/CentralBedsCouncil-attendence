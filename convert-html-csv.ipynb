{
 "cells": [
  {
   "attachments": {},
   "cell_type": "markdown",
   "metadata": {},
   "source": [
    "This notebook converts the mhtml webpages into csv files. It uses code from https://www.geeksforgeeks.org/convert-html-table-into-csv-file-in-python/"
   ]
  },
  {
   "cell_type": "code",
   "execution_count": 1,
   "metadata": {},
   "outputs": [],
   "source": [
    "import os\n",
    "import sys\n",
    "import re\n",
    "import pandas as pd\n",
    "from bs4 import BeautifulSoup\n",
    "\n",
    "def bs_preprocess(html):\n",
    "    \"\"\"remove d istracting whitespaces and newline characters\"\"\"\n",
    "    pat = re.compile('(^[\\s]+)|([\\s]+$)', re.MULTILINE)\n",
    "    html = re.sub(pat, '', html) # remove leading and trailing whitespaces\n",
    "    html = re.sub('\\n',' ', html) # convert newlines to spaces\n",
    "    # this preserves newline delimiters\n",
    "    html = re.sub('[\\s]+<', '<',html) # remove whitespaces before opening tags\n",
    "    html = re.sub('>[\\s]+', '>',html) # remove whitespaces after closing tags\n",
    "    return  html\n",
    "\n"
   ]
  },
  {
   "cell_type": "code",
   "execution_count": 2,
   "metadata": {},
   "outputs": [],
   "source": [
    "def convert_to_dataFrame(path):\n",
    "    \"\"\"\"reads in the webpage adn just returns the table it contains\"\"\"\n",
    "    data = []\n",
    "    f=open(path)\n",
    "    html=bs_preprocess(f.read())\n",
    "    # for getting the header from the HTML file\n",
    "    list_header = []\n",
    "    soup = BeautifulSoup(html,'html.parser')\n",
    "    header = soup.find_all(\"table\")[0].find(\"tr\")\n",
    "    for items in header:\n",
    "        try:\n",
    "            list_header.append(items.get_text())\n",
    "        except:\n",
    "            continue\n",
    "\n",
    "    # for getting the data\n",
    "    HTML_data = soup.find_all(\"table\")[0].find_all(\"tr\")[1:]\n",
    "    for element in HTML_data:\n",
    "        sub_data = []\n",
    "        for sub_element in element:\n",
    "            try:\n",
    "                sub_data.append(sub_element.get_text())\n",
    "            except:\n",
    "                continue\n",
    "        data.append(sub_data)\n",
    "\n",
    "    # Storing the data into Pandas DataFrame\n",
    "    dataFrame = pd.DataFrame(data = data, columns = list_header)\n",
    "    return dataFrame    "
   ]
  },
  {
   "cell_type": "code",
   "execution_count": 8,
   "metadata": {},
   "outputs": [
    {
     "name": "stdout",
     "output_type": "stream",
     "text": [
      "Appointment\n",
      "Audit\n",
      "Biggleswade\n",
      "ChildrensServices\n",
      "CorporateParentingPanel\n",
      "CorporateResources\n",
      "Council\n",
      "DevelopmentManagement\n",
      "Dunstable\n",
      "Executive\n",
      "GeneralPurposes\n",
      "HealthWellbeing\n",
      "HoughtonRegis\n",
      "LeightonLinslade\n",
      "Licensing\n",
      "LicensingSub\n",
      "ReligiousEd\n",
      "SchoolAgeRange\n",
      "SchoolsForum\n",
      "SocialCareHealthHousing\n",
      "SustainableCommunities\n",
      "Traffic\n",
      "WixamsJointDevelopment\n"
     ]
    }
   ],
   "source": [
    "committees=[\"Appointment\",\"Audit\",\"Biggleswade\",\"ChildrensServices\",\"CorporateParentingPanel\",\"CorporateResources\",\"Council\",\"DevelopmentManagement\",\"Dunstable\",\"Executive\",\"GeneralPurposes\",\"HealthWellbeing\",\"HoughtonRegis\",\"LeightonLinslade\",\"Licensing\",\"LicensingSub\",\"ReligiousEd\",\"SchoolAgeRange\",\"SchoolsForum\",\"SocialCareHealthHousing\",\"SustainableCommunities\",\"Traffic\",\"WixamsJointDevelopment\"]\n",
    "for comm in committees:\n",
    "    print(comm)\n",
    "    inpath=\"html-committee-data/\"+str(comm)+\".mhtml\"\n",
    "    outpath=\"csv-committee-data/\"+str(comm)+\".csv\"\n",
    "    df=convert_to_dataFrame(inpath)\n",
    "    df.to_csv(outpath,index=False)\n"
   ]
  },
  {
   "cell_type": "code",
   "execution_count": null,
   "metadata": {},
   "outputs": [],
   "source": []
  }
 ],
 "metadata": {
  "kernelspec": {
   "display_name": "CentralBedsCouncil-attendence",
   "language": "python",
   "name": "python3"
  },
  "language_info": {
   "codemirror_mode": {
    "name": "ipython",
    "version": 3
   },
   "file_extension": ".py",
   "mimetype": "text/x-python",
   "name": "python",
   "nbconvert_exporter": "python",
   "pygments_lexer": "ipython3",
   "version": "3.10.9"
  },
  "orig_nbformat": 4,
  "vscode": {
   "interpreter": {
    "hash": "ba522263c73c6a4801768530b0ca099e26bbc7968c8200d17c7fac7c0cc0ed6a"
   }
  }
 },
 "nbformat": 4,
 "nbformat_minor": 2
}
